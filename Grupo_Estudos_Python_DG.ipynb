{
  "nbformat": 4,
  "nbformat_minor": 0,
  "metadata": {
    "colab": {
      "provenance": [],
      "include_colab_link": true
    },
    "kernelspec": {
      "name": "python3",
      "display_name": "Python 3"
    },
    "language_info": {
      "name": "python"
    }
  },
  "cells": [
    {
      "cell_type": "markdown",
      "metadata": {
        "id": "view-in-github",
        "colab_type": "text"
      },
      "source": [
        "<a href=\"https://colab.research.google.com/github/JMCVALE/biifioretti/blob/main/Grupo_Estudos_Python_DG.ipynb\" target=\"_parent\"><img src=\"https://colab.research.google.com/assets/colab-badge.svg\" alt=\"Open In Colab\"/></a>"
      ]
    },
    {
      "cell_type": "code",
      "execution_count": 3,
      "metadata": {
        "id": "WZpeTv4AEA2_",
        "outputId": "fffbbde6-cc41-4920-bb59-958c89072e53",
        "colab": {
          "base_uri": "https://localhost:8080/"
        }
      },
      "outputs": [
        {
          "output_type": "stream",
          "name": "stdout",
          "text": [
            "Bem vindas mulheradaaaa! Primeiroo, vamos explorar o colab =D\n"
          ]
        }
      ],
      "source": [
        "# teste de colab x github, está salvando direito no git?\n",
        "print(\"Bem vindas mulheradaaaa! Primeiroo, vamos explorar o colab =D\")"
      ]
    },
    {
      "cell_type": "code",
      "source": [
        "print(\"Esse é um bloco de código, é nele que escrevemos aquilo que será executado\")"
      ],
      "metadata": {
        "id": "wQDbdSorJD4r"
      },
      "execution_count": null,
      "outputs": []
    },
    {
      "cell_type": "markdown",
      "source": [
        "Esse é um bloco de texto, nele escrevemos observações, insights, coisas que nos ajudem a organizar nosso trabalho\n"
      ],
      "metadata": {
        "id": "sRD0tVQTJGRW"
      }
    },
    {
      "cell_type": "code",
      "source": [
        "print(\"Crtl + M + B cria uma célula abaixo. Esse é um atalho útil para decorar\")"
      ],
      "metadata": {
        "id": "FTtkzbO0JdVl"
      },
      "execution_count": null,
      "outputs": []
    },
    {
      "cell_type": "code",
      "source": [
        "print(\"Crtl + Shift + Enter executa a célula, mas mantém o cursor na mesma célula\")"
      ],
      "metadata": {
        "id": "5f2Mh9a8JkuJ"
      },
      "execution_count": null,
      "outputs": []
    },
    {
      "cell_type": "code",
      "source": [],
      "metadata": {
        "id": "zlsxz_hxoGoz"
      },
      "execution_count": null,
      "outputs": []
    },
    {
      "cell_type": "markdown",
      "source": [
        "Vamos entender agora um pouco do que vimos na teoria!"
      ],
      "metadata": {
        "id": "aKe_s5vYKFlg"
      }
    },
    {
      "cell_type": "code",
      "source": [
        "print(\"Olá, mundo! Estou aprendendo Python no Colab 🚀\") #Comentários servem para organizar o código"
      ],
      "metadata": {
        "id": "g-LYwgKcL5Bx"
      },
      "execution_count": null,
      "outputs": []
    },
    {
      "cell_type": "code",
      "source": [
        "# Guardar valores em variáveis\n",
        "nome = \"Ana\"\n",
        "idade = 25\n",
        "\n",
        "print(\"Nome:\", nome)\n",
        "print(\"Idade:\", idade)"
      ],
      "metadata": {
        "id": "6R0DgFO5MJo-"
      },
      "execution_count": null,
      "outputs": []
    },
    {
      "cell_type": "code",
      "source": [
        "# Estruturas de controle são fundamentais para criação de código. Condicionais permitem tomada de decisão\n",
        "\n",
        "idade = 7\n",
        "\n",
        "if idade >= 18:\n",
        "    print(\"Maior de idade\")\n",
        "else:\n",
        "    print(\"Menor de idade\")\n"
      ],
      "metadata": {
        "id": "c-G3ZJCVMTBV"
      },
      "execution_count": null,
      "outputs": []
    },
    {
      "cell_type": "code",
      "source": [
        "# Já as estruturas de repetição, nos poupam de escrever o mesmo código diversas vezes\n",
        "\n",
        "for i in range(5):\n",
        "    print(\"Contando:\", i)\n"
      ],
      "metadata": {
        "id": "gYbffEA0MgbB"
      },
      "execution_count": null,
      "outputs": []
    },
    {
      "cell_type": "code",
      "source": [
        "print(\"Contando:\", 0)\n",
        "print(\"Contando:\", 1)\n",
        "print(\"Contando:\", 2)\n",
        "print(\"Contando:\", 3)\n",
        "print(\"Contando:\", 4)"
      ],
      "metadata": {
        "id": "GEiF49Cuq-6l"
      },
      "execution_count": null,
      "outputs": []
    },
    {
      "cell_type": "code",
      "source": [
        "# As funções são blocos de códigos que podemos reaproveitar\n",
        "\n",
        "def saudacao(nome):\n",
        "    print(f\"Olá, {nome}! Bem-vinda(o) ao Python.\")\n",
        "saudacao(\"Mayara\")"
      ],
      "metadata": {
        "id": "Os6wgOzSNRFE"
      },
      "execution_count": null,
      "outputs": []
    },
    {
      "cell_type": "code",
      "source": [
        "\"\"\" Desafio\n",
        "\n",
        "Crie uma função que receba o nome e a idade de uma pessoa.\n",
        "\n",
        "A função deve imprimir uma frase dizendo se a pessoa é maior de idade.\"\"\""
      ],
      "metadata": {
        "id": "A3O6qleUNrW1"
      },
      "execution_count": null,
      "outputs": []
    },
    {
      "cell_type": "code",
      "source": [
        "def verificar_idade(nome, idade):\n",
        "    if idade >= 18:\n",
        "        print(f\"{nome} é maior de idade.\")\n",
        "    else:\n",
        "        print(f\"{nome} é menor de idade.\")\n",
        "\n",
        "# Exemplo de uso\n",
        "verificar_idade(\"Mariana\", 20)\n",
        "verificar_idade(\"Luna\", 15)\n"
      ],
      "metadata": {
        "id": "rdlMt1k_N7uW"
      },
      "execution_count": null,
      "outputs": []
    },
    {
      "cell_type": "markdown",
      "source": [
        "Vamos corrigir alguns erros!"
      ],
      "metadata": {
        "id": "GF5y0ZEhOhiZ"
      }
    },
    {
      "cell_type": "code",
      "source": [
        "idade = 20\n",
        "if idade >= 18:\n",
        "  print(\"Maior de idade\")"
      ],
      "metadata": {
        "id": "fcHFMBS6OqNE"
      },
      "execution_count": null,
      "outputs": []
    },
    {
      "cell_type": "code",
      "source": [
        "for i in range(3):\n",
        "  print(\"Número:\", i)"
      ],
      "metadata": {
        "id": "XIWNgqvmOtX5"
      },
      "execution_count": null,
      "outputs": []
    },
    {
      "cell_type": "code",
      "source": [
        "def verificar_idade(idade):\n",
        "  if idade >= 18:\n",
        "    print(\"Maior de idade\")\n",
        "  else:\n",
        "    print(\"Menor de idade\")"
      ],
      "metadata": {
        "id": "nyS2owxxO0aI"
      },
      "execution_count": null,
      "outputs": []
    },
    {
      "cell_type": "code",
      "source": [
        "def pares_ate_n(n):\n",
        "    for i in range(n):\n",
        "        if i % 2 == 0:\n",
        "            print(i)\n",
        "    print(\"Fim\")"
      ],
      "metadata": {
        "id": "S71Pqm_IO1Ki"
      },
      "execution_count": null,
      "outputs": []
    },
    {
      "cell_type": "code",
      "source": [
        "print (\"Olá mundo\")\n"
      ],
      "metadata": {
        "id": "q4no0kjFPFG_"
      },
      "execution_count": null,
      "outputs": []
    },
    {
      "cell_type": "code",
      "source": [
        "list = [1, 2, 3]\n",
        "print(list(5))\n"
      ],
      "metadata": {
        "id": "ZNxvCY2LPWaN"
      },
      "execution_count": null,
      "outputs": []
    },
    {
      "cell_type": "code",
      "source": [
        "if 10 > 5:\n",
        "    print(\"Dez é maior\")\n"
      ],
      "metadata": {
        "id": "M18C1rjIPh5r"
      },
      "execution_count": null,
      "outputs": []
    },
    {
      "cell_type": "code",
      "source": [
        "print(nome)"
      ],
      "metadata": {
        "id": "Y0ep7WtqPm59"
      },
      "execution_count": null,
      "outputs": []
    },
    {
      "cell_type": "code",
      "source": [],
      "metadata": {
        "id": "abYrYVKvzvSA"
      },
      "execution_count": null,
      "outputs": []
    },
    {
      "cell_type": "code",
      "source": [],
      "metadata": {
        "id": "Z3WvMuZpQiLe"
      },
      "execution_count": null,
      "outputs": []
    }
  ]
}