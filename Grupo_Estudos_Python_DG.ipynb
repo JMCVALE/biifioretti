{
  "nbformat": 4,
  "nbformat_minor": 0,
  "metadata": {
    "colab": {
      "provenance": [],
      "include_colab_link": true
    },
    "kernelspec": {
      "name": "python3",
      "display_name": "Python 3"
    },
    "language_info": {
      "name": "python"
    }
  },
  "cells": [
    {
      "cell_type": "markdown",
      "metadata": {
        "id": "view-in-github",
        "colab_type": "text"
      },
      "source": [
        "<a href=\"https://colab.research.google.com/github/JMCVALE/biifioretti/blob/main/Grupo_Estudos_Python_DG.ipynb\" target=\"_parent\"><img src=\"https://colab.research.google.com/assets/colab-badge.svg\" alt=\"Open In Colab\"/></a>"
      ]
    },
    {
      "cell_type": "code",
      "execution_count": 3,
      "metadata": {
        "id": "WZpeTv4AEA2_",
        "colab": {
          "base_uri": "https://localhost:8080/"
        },
        "outputId": "fffbbde6-cc41-4920-bb59-958c89072e53"
      },
      "outputs": [
        {
          "output_type": "stream",
          "name": "stdout",
          "text": [
            "Bem vindas mulheradaaaa! Primeiroo, vamos explorar o colab =D\n"
          ]
        }
      ],
      "source": [
        "# teste de colab x github, está salvando direito no git?\n",
        "# está OK\n",
        "print(\"Bem vindas mulheradaaaa! Primeiroo, vamos explorar o colab =D\")"
      ]
    },
    {
      "cell_type": "code",
      "source": [
        "print(\"Esse é um bloco de código, é nele que escrevemos aquilo que será executado\")"
      ],
      "metadata": {
        "id": "wQDbdSorJD4r",
        "colab": {
          "base_uri": "https://localhost:8080/"
        },
        "outputId": "09a71787-f799-476b-b047-0c230b5f1a27"
      },
      "execution_count": 4,
      "outputs": [
        {
          "output_type": "stream",
          "name": "stdout",
          "text": [
            "Esse é um bloco de código, é nele que escrevemos aquilo que será executado\n"
          ]
        }
      ]
    },
    {
      "cell_type": "markdown",
      "source": [
        "Esse é um bloco de texto, nele escrevemos observações, insights, coisas que nos ajudem a organizar nosso trabalho\n"
      ],
      "metadata": {
        "id": "sRD0tVQTJGRW"
      }
    },
    {
      "cell_type": "markdown",
      "source": [
        "Teste: nos meus trabalhos, escrever todo meu pensamento aqui, ir organizando meus insights, dúvidas, entre outros....\n"
      ],
      "metadata": {
        "id": "Lp9sbJYhPn4e"
      }
    },
    {
      "cell_type": "code",
      "source": [
        "print(\"Crtl + M + B cria uma célula abaixo. Esse é um atalho útil para decorar\")"
      ],
      "metadata": {
        "id": "FTtkzbO0JdVl"
      },
      "execution_count": null,
      "outputs": []
    },
    {
      "cell_type": "code",
      "source": [],
      "metadata": {
        "id": "0MxiNYXIP0nQ"
      },
      "execution_count": null,
      "outputs": []
    },
    {
      "cell_type": "code",
      "source": [
        "print(\"Crtl + Shift + Enter executa a célula, mas mantém o cursor na mesma célula\")"
      ],
      "metadata": {
        "id": "5f2Mh9a8JkuJ",
        "colab": {
          "base_uri": "https://localhost:8080/"
        },
        "outputId": "abddeff9-1689-41ba-ac86-bc69ee236f83"
      },
      "execution_count": 5,
      "outputs": [
        {
          "output_type": "stream",
          "name": "stdout",
          "text": [
            "Crtl + Shift + Enter executa a célula, mas mantém o cursor na mesma célula\n"
          ]
        }
      ]
    },
    {
      "cell_type": "code",
      "source": [],
      "metadata": {
        "id": "zlsxz_hxoGoz"
      },
      "execution_count": null,
      "outputs": []
    },
    {
      "cell_type": "markdown",
      "source": [
        "Vamos entender agora um pouco do que vimos na teoria!"
      ],
      "metadata": {
        "id": "aKe_s5vYKFlg"
      }
    },
    {
      "cell_type": "code",
      "source": [
        "print(\"Olá, mundo! Estou aprendendo Python no Colab 🚀\") #Comentários servem para organizar o código"
      ],
      "metadata": {
        "id": "g-LYwgKcL5Bx"
      },
      "execution_count": null,
      "outputs": []
    },
    {
      "cell_type": "code",
      "source": [
        "# Guardar valores escalares em variáveis\n",
        "nome = \"Ana\"\n",
        "idade = 25\n",
        "\n",
        "print(\"Nome:\", nome)\n",
        "print(\"Idade:\", idade)\n",
        "\n",
        "# Para valores compostos mutáveis (usar com ou sem ())\n",
        "\n",
        "nome = \"Ana\", \"Júlia\", \"Maria\"\n",
        "idade = (13, 14, 15)\n",
        "print (\"Nomes:\", nome)\n",
        "print (\"Idades:\", idade)"
      ],
      "metadata": {
        "id": "6R0DgFO5MJo-",
        "colab": {
          "base_uri": "https://localhost:8080/"
        },
        "outputId": "26d0c999-d4d1-45ca-ebeb-e4af619bc0de"
      },
      "execution_count": 10,
      "outputs": [
        {
          "output_type": "stream",
          "name": "stdout",
          "text": [
            "Nome: Ana\n",
            "Idade: 25\n",
            "Nomes: ('Ana', 'Júlia', 'Maria')\n",
            "Idades: (13, 14, 15)\n"
          ]
        }
      ]
    },
    {
      "cell_type": "code",
      "source": [
        "# Estruturas de controle são fundamentais para criação de código. Condicionais permitem tomada de decisão\n",
        "\n",
        "idade = 7\n",
        "\n",
        "if idade >= 18:\n",
        "    print(\"Maior de idade\")\n",
        "else:\n",
        "    print(\"Menor de idade\")\n"
      ],
      "metadata": {
        "id": "c-G3ZJCVMTBV",
        "colab": {
          "base_uri": "https://localhost:8080/"
        },
        "outputId": "0b2136c4-c814-4b64-8ba6-f6e10f070b6c"
      },
      "execution_count": 11,
      "outputs": [
        {
          "output_type": "stream",
          "name": "stdout",
          "text": [
            "Menor de idade\n"
          ]
        }
      ]
    },
    {
      "cell_type": "code",
      "source": [
        "# Estruturas de controle são fundamentais para criação de código. Condicionais permitem tomada de decisão\n",
        "\n",
        "try:\n",
        "    idade = int(input(\"Entre com o valor da idade e aperte ENTER para continuar:\"))\n",
        "    if idade >= 18:\n",
        "        print(\"Maior de idade\")\n",
        "    else:\n",
        "        print(\"Menor de idade\")\n",
        "except ValueError:\n",
        "    print(\"Você precisa digitar um número inteiro.\")"
      ],
      "metadata": {
        "id": "gGbxHo_yRfPn",
        "outputId": "566a6e65-f1d0-4ec6-da6a-f63393bbf795",
        "colab": {
          "base_uri": "https://localhost:8080/"
        }
      },
      "execution_count": 28,
      "outputs": [
        {
          "output_type": "stream",
          "name": "stdout",
          "text": [
            "Entre com o valor da idade e aperte ENTER para continuar:ç\n",
            "Você precisa digitar um número inteiro.\n"
          ]
        }
      ]
    },
    {
      "cell_type": "code",
      "source": [
        "# Já as estruturas de repetição, nos poupam de escrever o mesmo código diversas vezes\n",
        "# Lembrando que no python, começa no 0\n",
        "\n",
        "for i in range(5):\n",
        "    print(\"Contando:\", i)\n"
      ],
      "metadata": {
        "id": "gYbffEA0MgbB",
        "colab": {
          "base_uri": "https://localhost:8080/"
        },
        "outputId": "c98e85c3-8e9b-418b-aab7-ce2b9dc2b1fc"
      },
      "execution_count": 29,
      "outputs": [
        {
          "output_type": "stream",
          "name": "stdout",
          "text": [
            "Contando: 0\n",
            "Contando: 1\n",
            "Contando: 2\n",
            "Contando: 3\n",
            "Contando: 4\n"
          ]
        }
      ]
    },
    {
      "cell_type": "code",
      "source": [
        "print(\"Contando:\", 0)\n",
        "print(\"Contando:\", 1)\n",
        "print(\"Contando:\", 2)\n",
        "print(\"Contando:\", 3)\n",
        "print(\"Contando:\", 4)"
      ],
      "metadata": {
        "id": "GEiF49Cuq-6l"
      },
      "execution_count": null,
      "outputs": []
    },
    {
      "cell_type": "code",
      "source": [
        "# As funções são blocos de códigos que podemos reaproveitar\n",
        "\n",
        "def saudacao(nome):\n",
        "    print(f\"Olá, {nome}! Bem-vinda(o) ao Python.\")\n",
        "saudacao(\"Mayara\")"
      ],
      "metadata": {
        "id": "Os6wgOzSNRFE"
      },
      "execution_count": null,
      "outputs": []
    },
    {
      "cell_type": "code",
      "source": [
        "\"\"\" Desafio\n",
        "\n",
        "Crie uma função que receba o nome e a idade de uma pessoa.\n",
        "\n",
        "A função deve imprimir uma frase dizendo se a pessoa é maior de idade.\"\"\""
      ],
      "metadata": {
        "id": "A3O6qleUNrW1"
      },
      "execution_count": null,
      "outputs": []
    },
    {
      "cell_type": "code",
      "source": [
        "def verificar_idade(nome, idade):\n",
        "    if idade >= 18:\n",
        "        print(f\"{nome} é maior de idade.\")\n",
        "    else:\n",
        "        print(f\"{nome} é menor de idade.\")\n",
        "\n",
        "# Exemplo de uso\n",
        "verificar_idade(\"Mariana\", 20)\n",
        "verificar_idade(\"Luna\", 15)\n"
      ],
      "metadata": {
        "id": "rdlMt1k_N7uW"
      },
      "execution_count": null,
      "outputs": []
    },
    {
      "cell_type": "markdown",
      "source": [
        "Vamos corrigir alguns erros!"
      ],
      "metadata": {
        "id": "GF5y0ZEhOhiZ"
      }
    },
    {
      "cell_type": "code",
      "source": [
        "idade = 20\n",
        "if idade >= 18:\n",
        "  print(\"Maior de idade\")"
      ],
      "metadata": {
        "id": "fcHFMBS6OqNE"
      },
      "execution_count": null,
      "outputs": []
    },
    {
      "cell_type": "code",
      "source": [
        "for i in range(3):\n",
        "  print(\"Número:\", i)"
      ],
      "metadata": {
        "id": "XIWNgqvmOtX5"
      },
      "execution_count": null,
      "outputs": []
    },
    {
      "cell_type": "code",
      "source": [
        "def verificar_idade(idade):\n",
        "  if idade >= 18:\n",
        "    print(\"Maior de idade\")\n",
        "  else:\n",
        "    print(\"Menor de idade\")"
      ],
      "metadata": {
        "id": "nyS2owxxO0aI"
      },
      "execution_count": null,
      "outputs": []
    },
    {
      "cell_type": "code",
      "source": [
        "def pares_ate_n(n):\n",
        "    for i in range(n):\n",
        "        if i % 2 == 0:\n",
        "            print(i)\n",
        "    print(\"Fim\")"
      ],
      "metadata": {
        "id": "S71Pqm_IO1Ki"
      },
      "execution_count": null,
      "outputs": []
    },
    {
      "cell_type": "code",
      "source": [
        "print (\"Olá mundo\")\n"
      ],
      "metadata": {
        "id": "q4no0kjFPFG_"
      },
      "execution_count": null,
      "outputs": []
    },
    {
      "cell_type": "code",
      "source": [
        "list = [1, 2, 3]\n",
        "print(list(5))\n"
      ],
      "metadata": {
        "id": "ZNxvCY2LPWaN"
      },
      "execution_count": null,
      "outputs": []
    },
    {
      "cell_type": "code",
      "source": [
        "if 10 > 5:\n",
        "    print(\"Dez é maior\")\n"
      ],
      "metadata": {
        "id": "M18C1rjIPh5r"
      },
      "execution_count": null,
      "outputs": []
    },
    {
      "cell_type": "code",
      "source": [
        "print(nome)"
      ],
      "metadata": {
        "id": "Y0ep7WtqPm59"
      },
      "execution_count": null,
      "outputs": []
    },
    {
      "cell_type": "code",
      "source": [],
      "metadata": {
        "id": "abYrYVKvzvSA"
      },
      "execution_count": null,
      "outputs": []
    },
    {
      "cell_type": "code",
      "source": [],
      "metadata": {
        "id": "Z3WvMuZpQiLe"
      },
      "execution_count": null,
      "outputs": []
    }
  ]
}